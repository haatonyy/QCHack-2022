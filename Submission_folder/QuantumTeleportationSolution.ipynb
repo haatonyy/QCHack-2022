{
 "cells": [
  {
   "cell_type": "markdown",
   "metadata": {},
   "source": [
    "# Quantum Teleportation qBraid Challenge Solution\n",
    "\n",
    "## Contents\n",
    "\n",
    "### 1. Generate Teleportation Circuit with Amazon Braket and Measurement using Local Devices\n",
    "### 2. Measuring Circuits using Rigetti\n",
    "### 3. Transpiling Circuits into Qiskit's Language\n",
    "### 4. Measurement with Qiskit's backend\n",
    "### 5. Alice, Bob, and Corey (And Their Friends)"
   ]
  },
  {
   "cell_type": "markdown",
   "metadata": {},
   "source": [
    "Import useful functions from Amazon Braket"
   ]
  },
  {
   "cell_type": "code",
   "execution_count": 3,
   "metadata": {},
   "outputs": [],
   "source": [
    "from braket.circuits import Circuit, Gate, Instruction, circuit, Observable\n",
    "from braket.devices import LocalSimulator\n",
    "from braket.aws import AwsDevice, AwsQuantumTask\n",
    "\n",
    "import numpy as np\n",
    "from matplotlib import pyplot as plt"
   ]
  },
  {
   "cell_type": "markdown",
   "metadata": {},
   "source": [
    "### 1. Generate Teleportation Circuit with Amazon Braket"
   ]
  },
  {
   "cell_type": "markdown",
   "metadata": {},
   "source": [
    "Here our `teleportation_circuit` function takes in `init_circuit` which initializes a state. The function then returns the teleportation circuit that helps transfer that initialized states."
   ]
  },
  {
   "cell_type": "code",
   "execution_count": 4,
   "metadata": {},
   "outputs": [],
   "source": [
    "#generate teleportation circuit with or without initial circuit that generates the initial state of qubit.\n",
    "def teleportation_circuit(init_circuit = Circuit()):\n",
    "    \n",
    "    qc = init_circuit.copy()\n",
    "    qc.h(1).cnot(1,2).cnot(0,1).h(0).cnot(1,2).cz(0,2)\n",
    "\n",
    "    return qc"
   ]
  },
  {
   "cell_type": "markdown",
   "metadata": {},
   "source": [
    "Since we can only measure all qubits rather than measuring one of them, we write `single_qubit_counts` that takes in `counts` of the measurement and `qubit` to return the measurement count if we just measure that qubit. "
   ]
  },
  {
   "cell_type": "code",
   "execution_count": 5,
   "metadata": {},
   "outputs": [],
   "source": [
    "#find the probability of measuring a specific qubit \n",
    "def single_qubit_counts(counts, qubit):\n",
    "    single_qubit_counts = {'0':0, '1':0}\n",
    "    for bit_string in counts:\n",
    "        if bit_string[qubit] == '0':\n",
    "            single_qubit_counts['0'] += counts[bit_string]\n",
    "        elif bit_string[qubit]== '1':\n",
    "            single_qubit_counts['1'] += counts[bit_string]\n",
    "    return single_qubit_counts"
   ]
  },
  {
   "cell_type": "markdown",
   "metadata": {},
   "source": [
    "#### a. Trivial state"
   ]
  },
  {
   "cell_type": "markdown",
   "metadata": {},
   "source": [
    "First, assuming the initial state is the state |0>. The circuit that transfers the state |0> is:"
   ]
  },
  {
   "cell_type": "code",
   "execution_count": 6,
   "metadata": {},
   "outputs": [
    {
     "name": "stdout",
     "output_type": "stream",
     "text": [
      "T  : |0|1|2|3|4|\n",
      "                \n",
      "q0 : -----C-H-C-\n",
      "          |   | \n",
      "q1 : -H-C-X-C-|-\n",
      "        |   | | \n",
      "q2 : ---X---X-Z-\n",
      "\n",
      "T  : |0|1|2|3|4|\n"
     ]
    }
   ],
   "source": [
    "#generate the teleporation circuit\n",
    "circuit0 = teleportation_circuit()\n",
    "print(circuit0)"
   ]
  },
  {
   "cell_type": "markdown",
   "metadata": {},
   "source": [
    "Measurement the circuit with `LocalSimulator`"
   ]
  },
  {
   "cell_type": "code",
   "execution_count": 7,
   "metadata": {},
   "outputs": [
    {
     "data": {
      "image/png": "[encoded data removed]",
      "text/plain": [
       "<Figure size 432x288 with 1 Axes>"
      ]
     },
     "metadata": {
      "needs_background": "light"
     },
     "output_type": "display_data"
    }
   ],
   "source": [
    "# set up device\n",
    "device = LocalSimulator()\n",
    "numshots = 2024\n",
    "\n",
    "# run circuit\n",
    "result0 = device.run(circuit0, shots=numshots).result()\n",
    "\n",
    "# get measurement shots\n",
    "counts0 = result0.measurement_counts\n",
    "\n",
    "# visualize the result\n",
    "plt.bar(counts0.keys(), counts0.values())\n",
    "plt.xlabel('States')\n",
    "plt.ylabel('Counts')\n",
    "plt.show()"
   ]
  },
  {
   "cell_type": "markdown",
   "metadata": {},
   "source": [
    "The count if we only measure the receiver's qubit"
   ]
  },
  {
   "cell_type": "code",
   "execution_count": 8,
   "metadata": {},
   "outputs": [
    {
     "data": {
      "image/png": "[encoded data removed]",
      "text/plain": [
       "<Figure size 432x288 with 1 Axes>"
      ]
     },
     "metadata": {
      "needs_background": "light"
     },
     "output_type": "display_data"
    }
   ],
   "source": [
    "#counts of q2\n",
    "counts0_q2 = single_qubit_counts(counts0, 2)\n",
    "\n",
    "# visualize the results\n",
    "plt.bar(counts0_q2.keys(), counts0_q2.values())\n",
    "plt.xlabel('States')\n",
    "plt.ylabel('Counts')\n",
    "plt.show()"
   ]
  },
  {
   "cell_type": "markdown",
   "metadata": {},
   "source": [
    "The result is trivial for the |0> state!"
   ]
  },
  {
   "cell_type": "markdown",
   "metadata": {},
   "source": [
    "#### b. General State"
   ]
  },
  {
   "cell_type": "markdown",
   "metadata": {},
   "source": [
    "Now, we try to initialize a general state with U3 gate. Our function `U3_instr` creates the `Instruction` to set U3 gate. "
   ]
  },
  {
   "cell_type": "code",
   "execution_count": 9,
   "metadata": {},
   "outputs": [],
   "source": [
    "def U3_instr(theta, phi, lam):\n",
    "    U3_instr = []\n",
    "    U3_instr.append(Instruction(Gate.Rz(phi), 0))\n",
    "    U3_instr.append(Instruction(Gate.Rx(-np.pi /2),0))\n",
    "    U3_instr.append(Instruction(Gate.Rz(theta),0))\n",
    "    U3_instr.append(Instruction(Gate.Rx(+np.pi/2),0))\n",
    "    U3_instr.append(Instruction(Gate.Rz(lam),0))\n",
    "    return U3_instr\n",
    "\n",
    "def inverseU3_instr(theta, phi, lam):\n",
    "    return U3_instr(-theta, -lam, -phi)"
   ]
  },
  {
   "cell_type": "markdown",
   "metadata": {},
   "source": [
    "The initial circuit that initializes the general state. Here we set `init_state_param` = [1,2,3]"
   ]
  },
  {
   "cell_type": "code",
   "execution_count": 10,
   "metadata": {},
   "outputs": [],
   "source": [
    "#generate initial circuit\n",
    "init_state_param  = [1,2,3]\n",
    "theta, phi, lam = init_state_param\n",
    "u3_instr = U3_instr(theta, phi, lam)\n",
    "init_cir = Circuit(u3_instr)"
   ]
  },
  {
   "cell_type": "markdown",
   "metadata": {},
   "source": [
    "Measurement of this state by `LocalSimulator`"
   ]
  },
  {
   "cell_type": "code",
   "execution_count": 11,
   "metadata": {},
   "outputs": [
    {
     "data": {
      "image/png": "[encoded data removed]",
      "text/plain": [
       "<Figure size 432x288 with 1 Axes>"
      ]
     },
     "metadata": {
      "needs_background": "light"
     },
     "output_type": "display_data"
    }
   ],
   "source": [
    "# set up device\n",
    "device = LocalSimulator()\n",
    "numshots = 2024\n",
    "\n",
    "# run circuit\n",
    "result1_init = device.run(init_cir, shots=numshots).result()\n",
    "\n",
    "# get measurement shots\n",
    "counts1_init = result1_init.measurement_counts\n",
    "\n",
    "# visualize the result\n",
    "plt.bar(counts1_init.keys(), counts1_init.values())\n",
    "plt.xlabel('States')\n",
    "plt.ylabel('Counts')\n",
    "plt.show()"
   ]
  },
  {
   "cell_type": "markdown",
   "metadata": {},
   "source": [
    "Generating the teleportation circuit to transfer the general state is not that hard!"
   ]
  },
  {
   "cell_type": "code",
   "execution_count": 12,
   "metadata": {},
   "outputs": [
    {
     "name": "stdout",
     "output_type": "stream",
     "text": [
      "T  : |  0  |    1    |  2  |   3    |  4  |5|6|7|\n",
      "                                                 \n",
      "q0 : -Rz(2)-Rx(-1.57)-Rz(1)-Rx(1.57)-Rz(3)-C-H-C-\n",
      "                                           |   | \n",
      "q1 : -H-----C------------------------------X-C-|-\n",
      "            |                                | | \n",
      "q2 : -------X--------------------------------X-Z-\n",
      "\n",
      "T  : |  0  |    1    |  2  |   3    |  4  |5|6|7|\n"
     ]
    }
   ],
   "source": [
    "#generate circuit\n",
    "circuit1 = teleportation_circuit(init_cir)\n",
    "print(circuit1)"
   ]
  },
  {
   "cell_type": "markdown",
   "metadata": {},
   "source": [
    "Measurement the general-state-teleportation circuit with `Local Simulator`"
   ]
  },
  {
   "cell_type": "code",
   "execution_count": 13,
   "metadata": {},
   "outputs": [
    {
     "data": {
      "image/png": "[encoded data removed]",
      "text/plain": [
       "<Figure size 432x288 with 1 Axes>"
      ]
     },
     "metadata": {
      "needs_background": "light"
     },
     "output_type": "display_data"
    }
   ],
   "source": [
    "# set up device\n",
    "device = LocalSimulator()\n",
    "numshots = 2024\n",
    "\n",
    "\n",
    "# run circuit\n",
    "result1 = device.run(circuit1, shots=numshots).result()\n",
    "\n",
    "# get measurement shots\n",
    "counts1 = result1.measurement_counts\n",
    "\n",
    "# visualize the result\n",
    "plt.bar(counts1.keys(), counts1.values())\n",
    "plt.xlabel('States')\n",
    "plt.ylabel('Counts')\n",
    "plt.show()"
   ]
  },
  {
   "cell_type": "code",
   "execution_count": 14,
   "metadata": {},
   "outputs": [
    {
     "data": {
      "image/png": "[encoded data removed]",
      "text/plain": [
       "<Figure size 432x288 with 1 Axes>"
      ]
     },
     "metadata": {
      "needs_background": "light"
     },
     "output_type": "display_data"
    }
   ],
   "source": [
    "#counts of q2\n",
    "counts1_q2 = single_qubit_counts(counts1, 2)\n",
    "\n",
    "# visualize the results\n",
    "plt.bar(counts1_q2.keys(), counts1_q2.values())\n",
    "plt.xlabel('States')\n",
    "plt.ylabel('Counts')\n",
    "plt.show()"
   ]
  },
  {
   "cell_type": "markdown",
   "metadata": {},
   "source": [
    "Pheww! The probabilities of the transferred general state is the same of the initial state. "
   ]
  },
  {
   "cell_type": "markdown",
   "metadata": {},
   "source": [
    "### 2. Measuring Circuits using Rigetti"
   ]
  },
  {
   "cell_type": "markdown",
   "metadata": {},
   "source": [
    "#### a. Rigetti's Measurement of trivial state"
   ]
  },
  {
   "cell_type": "code",
   "execution_count": 19,
   "metadata": {},
   "outputs": [
    {
     "name": "stdout",
     "output_type": "stream",
     "text": [
      "T  : |0|1|2|3|4|\n",
      "                \n",
      "q0 : -----C-H-C-\n",
      "          |   | \n",
      "q1 : -H-C-X-C-|-\n",
      "        |   | | \n",
      "q2 : ---X---X-Z-\n",
      "\n",
      "T  : |0|1|2|3|4|\n"
     ]
    }
   ],
   "source": [
    "#new circuit for psi = 0\n",
    "circ0 = teleportation_circuit()\n",
    "print(circ0)"
   ]
  },
  {
   "cell_type": "code",
   "execution_count": 106,
   "metadata": {},
   "outputs": [],
   "source": [
    "# set up device\n",
    "rigetti = AwsDevice(\"arn:aws:braket:us-west-1::device/qpu/rigetti/Aspen-M-1\")\n",
    "\n",
    "# run circuit \n",
    "s3_folder = (\"aaaa\", \"bbb\")\n",
    "rigetti_task0 = rigetti.run(circ0, s3_folder, shots=2024)"
   ]
  },
  {
   "cell_type": "code",
   "execution_count": 82,
   "metadata": {},
   "outputs": [
    {
     "name": "stdout",
     "output_type": "stream",
     "text": [
      "ID of task: arn:aws:braket:us-west-1:592242689881:quantum-task/adb5b8b4-e68f-44c0-88f8-972fad3d1392\n",
      "Status of task: QUEUED\n"
     ]
    }
   ],
   "source": [
    "# get id and status of submitted task\n",
    "rigetti_task0_id = rigetti_task0.id\n",
    "rigetti_status0 = rigetti_task0.state()\n",
    "print('ID of task:', rigetti_task0_id)\n",
    "print('Status of task:', rigetti_status0)"
   ]
  },
  {
   "cell_type": "code",
   "execution_count": 104,
   "metadata": {},
   "outputs": [
    {
     "name": "stdout",
     "output_type": "stream",
     "text": [
      "Status of (reconstructed) task: QUEUED\n",
      "\n",
      "\n",
      "Sorry, your task is still being processed and has not been finalized yet.\n"
     ]
    }
   ],
   "source": [
    "# recover task\n",
    "task_load0 = AwsQuantumTask(arn=\"arn:aws:braket:us-west-1:592242689881:quantum-task/adb5b8b4-e68f-44c0-88f8-972fad3d1392\")\n",
    "\n",
    "# print status\n",
    "status = task_load0.state()\n",
    "print('Status of (reconstructed) task:', status)\n",
    "print('\\n')\n",
    "# wait for job to complete\n",
    "# terminal_states = ['COMPLETED', 'FAILED', 'CANCELLED']\n",
    "if status == 'COMPLETED':\n",
    "    # get results\n",
    "    rigetti_results = task_load.result()\n",
    "    # print(rigetti_results)\n",
    "    \n",
    "    # get measurement counts\n",
    "    rigetti_counts = rigetti_results.measurement_counts\n",
    "    print('Measurement counts:', rigetti_counts)\n",
    "\n",
    "    # plot results: see effects of noise\n",
    "    plt.bar(rigetti_counts.keys(), rigetti_counts.values())\n",
    "    plt.xlabel('bitstrings')\n",
    "    plt.ylabel('counts')\n",
    "    plt.tight_layout()\n",
    "\n",
    "    \n",
    "elif status in ['FAILED', 'CANCELLED']:\n",
    "    # print terminal message \n",
    "    print('Your task is in terminal status, but has not completed.')\n",
    "\n",
    "else:\n",
    "    # print current status\n",
    "    print('Sorry, your task is still being processed and has not been finalized yet.')\n"
   ]
  },
  {
   "cell_type": "markdown",
   "metadata": {},
   "source": [
    "#### b. Rigetti's Measurement of general state"
   ]
  },
  {
   "cell_type": "code",
   "execution_count": 20,
   "metadata": {},
   "outputs": [
    {
     "name": "stdout",
     "output_type": "stream",
     "text": [
      "T  : |  0  |    1    |  2  |   3    |  4  |5|6|7|\n",
      "                                                 \n",
      "q0 : -Rz(2)-Rx(-1.57)-Rz(1)-Rx(1.57)-Rz(3)-C-H-C-\n",
      "                                           |   | \n",
      "q1 : -H-----C------------------------------X-C-|-\n",
      "            |                                | | \n",
      "q2 : -------X--------------------------------X-Z-\n",
      "\n",
      "T  : |  0  |    1    |  2  |   3    |  4  |5|6|7|\n"
     ]
    }
   ],
   "source": [
    "#generate initial circuit\n",
    "init_state_param  = [1,2,3]\n",
    "theta, phi, lam = init_state_param\n",
    "u3_instr = U3_instr(theta, phi, lam)\n",
    "init_cir = Circuit(u3_instr)\n",
    "\n",
    "#new circuit for general psi\n",
    "circ1 = teleportation_circuit(init_cir)\n",
    "print(circ1)"
   ]
  },
  {
   "cell_type": "code",
   "execution_count": 105,
   "metadata": {},
   "outputs": [
    {
     "ename": "NameError",
     "evalue": "name 'rigetti' is not defined",
     "output_type": "error",
     "traceback": [
      "\u001b[0;31m---------------------------------------------------------------------------\u001b[0m",
      "\u001b[0;31mNameError\u001b[0m                                 Traceback (most recent call last)",
      "Input \u001b[0;32mIn [105]\u001b[0m, in \u001b[0;36m<cell line: 6>\u001b[0;34m()\u001b[0m\n\u001b[1;32m      1\u001b[0m \u001b[38;5;66;03m# set up device\u001b[39;00m\n\u001b[1;32m      2\u001b[0m \u001b[38;5;66;03m#rigetti = AwsDevice(\"arn:aws:braket:us-west-1::device/qpu/rigetti/Aspen-M-1\")\u001b[39;00m\n\u001b[1;32m      3\u001b[0m \n\u001b[1;32m      4\u001b[0m \u001b[38;5;66;03m# run circuit \u001b[39;00m\n\u001b[1;32m      5\u001b[0m s3_folder \u001b[38;5;241m=\u001b[39m (\u001b[38;5;124m\"\u001b[39m\u001b[38;5;124maaaa\u001b[39m\u001b[38;5;124m\"\u001b[39m, \u001b[38;5;124m\"\u001b[39m\u001b[38;5;124mbbb\u001b[39m\u001b[38;5;124m\"\u001b[39m)\n\u001b[0;32m----> 6\u001b[0m rigetti_task1 \u001b[38;5;241m=\u001b[39m \u001b[43mrigetti\u001b[49m\u001b[38;5;241m.\u001b[39mrun(circ1, s3_folder, shots\u001b[38;5;241m=\u001b[39m\u001b[38;5;241m2024\u001b[39m)\n",
      "\u001b[0;31mNameError\u001b[0m: name 'rigetti' is not defined"
     ]
    }
   ],
   "source": [
    "# set up device\n",
    "#rigetti = AwsDevice(\"arn:aws:braket:us-west-1::device/qpu/rigetti/Aspen-M-1\")\n",
    "\n",
    "# run circuit \n",
    "s3_folder = (\"aaaa\", \"bbb\")\n",
    "rigetti_task1 = rigetti.run(circ1, s3_folder, shots=2024)"
   ]
  },
  {
   "cell_type": "code",
   "execution_count": null,
   "metadata": {},
   "outputs": [],
   "source": [
    "# get id and status of submitted task\n",
    "rigetti_task1_id = rigetti_task1.id\n",
    "rigetti_status1 = rigetti_task1.state()\n",
    "print('ID of task:', rigetti_task1_id)\n",
    "print('Status of task:', rigetti_status1)"
   ]
  },
  {
   "cell_type": "markdown",
   "metadata": {},
   "source": [
    "### 3. Transpiling Circuits into Qiskit's Language"
   ]
  },
  {
   "cell_type": "markdown",
   "metadata": {},
   "source": [
    "In this part, we transpile our circuits from Amazon `braket.Circuit` to `qiskit.QuantumCircuit`"
   ]
  },
  {
   "cell_type": "code",
   "execution_count": 16,
   "metadata": {},
   "outputs": [],
   "source": [
    "from qbraid import circuit_wrapper, SUPPORTED_PROGRAM_TYPES"
   ]
  },
  {
   "cell_type": "code",
   "execution_count": 17,
   "metadata": {},
   "outputs": [],
   "source": [
    "from qiskit import QuantumCircuit, ClassicalRegister, Aer, assemble, transpile, IBMQ"
   ]
  },
  {
   "cell_type": "markdown",
   "metadata": {},
   "source": [
    "#### a. Trivial State"
   ]
  },
  {
   "cell_type": "code",
   "execution_count": 21,
   "metadata": {},
   "outputs": [],
   "source": [
    "wrapped_circuit0 = circuit_wrapper(circ0)"
   ]
  },
  {
   "cell_type": "code",
   "execution_count": 22,
   "metadata": {},
   "outputs": [
    {
     "name": "stdout",
     "output_type": "stream",
     "text": [
      "T  : |0|1|2|3|4|\n",
      "                \n",
      "q0 : -----C-H-C-\n",
      "          |   | \n",
      "q1 : -H-C-X-C-|-\n",
      "        |   | | \n",
      "q2 : ---X---X-Z-\n",
      "\n",
      "T  : |0|1|2|3|4|\n"
     ]
    }
   ],
   "source": [
    "print(circ0)"
   ]
  },
  {
   "cell_type": "code",
   "execution_count": 24,
   "metadata": {},
   "outputs": [
    {
     "name": "stdout",
     "output_type": "stream",
     "text": [
      "                    ┌───┐   \n",
      "q_0: ────────────■──┤ H ├─■─\n",
      "     ┌───┐     ┌─┴─┐└───┘ │ \n",
      "q_1: ┤ H ├──■──┤ X ├──■───┼─\n",
      "     └───┘┌─┴─┐└───┘┌─┴─┐ │ \n",
      "q_2: ─────┤ X ├─────┤ X ├─■─\n",
      "          └───┘     └───┘   \n"
     ]
    }
   ],
   "source": [
    "qiskit_circuit0 = wrapped_circuit0.transpile(\"qiskit\")\n",
    "print(qiskit_circuit0)"
   ]
  },
  {
   "cell_type": "code",
   "execution_count": 25,
   "metadata": {},
   "outputs": [
    {
     "name": "stdout",
     "output_type": "stream",
     "text": [
      "                    ┌───┐      \n",
      "q_0: ────────────■──┤ H ├─■────\n",
      "     ┌───┐     ┌─┴─┐└───┘ │    \n",
      "q_1: ┤ H ├──■──┤ X ├──■───┼────\n",
      "     └───┘┌─┴─┐└───┘┌─┴─┐ │ ┌─┐\n",
      "q_2: ─────┤ X ├─────┤ X ├─■─┤M├\n",
      "          └───┘     └───┘   └╥┘\n",
      "c: 1/════════════════════════╩═\n",
      "                             0 \n"
     ]
    }
   ],
   "source": [
    "qiskit_qc0 = QuantumCircuit(3,1)\n",
    "qiskit_qc0 += qiskit_circuit0\n",
    "qiskit_qc0.measure(2,0)\n",
    "print(qiskit_qc0)"
   ]
  },
  {
   "cell_type": "markdown",
   "metadata": {},
   "source": [
    "#### b. General State"
   ]
  },
  {
   "cell_type": "code",
   "execution_count": 26,
   "metadata": {},
   "outputs": [],
   "source": [
    "wrapped_circuit1 = circuit_wrapper(circ1)"
   ]
  },
  {
   "cell_type": "code",
   "execution_count": 27,
   "metadata": {},
   "outputs": [
    {
     "name": "stdout",
     "output_type": "stream",
     "text": [
      "T  : |  0  |    1    |  2  |   3    |  4  |5|6|7|\n",
      "                                                 \n",
      "q0 : -Rz(2)-Rx(-1.57)-Rz(1)-Rx(1.57)-Rz(3)-C-H-C-\n",
      "                                           |   | \n",
      "q1 : -H-----C------------------------------X-C-|-\n",
      "            |                                | | \n",
      "q2 : -------X--------------------------------X-Z-\n",
      "\n",
      "T  : |  0  |    1    |  2  |   3    |  4  |5|6|7|\n"
     ]
    }
   ],
   "source": [
    "print(circ1)"
   ]
  },
  {
   "cell_type": "code",
   "execution_count": 28,
   "metadata": {},
   "outputs": [
    {
     "name": "stdout",
     "output_type": "stream",
     "text": [
      "     ┌───────┐┌──────┐┌───────┐┌────┐┌───────┐     ┌───┐   \n",
      "q_0: ┤ Rz(2) ├┤ √Xdg ├┤ Rz(1) ├┤ √X ├┤ Rz(3) ├──■──┤ H ├─■─\n",
      "     └─┬───┬─┘└──────┘└───────┘└────┘└───────┘┌─┴─┐└───┘ │ \n",
      "q_1: ──┤ H ├─────■────────────────────────────┤ X ├──■───┼─\n",
      "       └───┘   ┌─┴─┐                          └───┘┌─┴─┐ │ \n",
      "q_2: ──────────┤ X ├───────────────────────────────┤ X ├─■─\n",
      "               └───┘                               └───┘   \n"
     ]
    }
   ],
   "source": [
    "qiskit_circuit1 = wrapped_circuit1.transpile(\"qiskit\")\n",
    "print(qiskit_circuit1)"
   ]
  },
  {
   "cell_type": "code",
   "execution_count": 29,
   "metadata": {},
   "outputs": [
    {
     "name": "stdout",
     "output_type": "stream",
     "text": [
      "     ┌───────┐┌──────┐┌───────┐┌────┐┌───────┐     ┌───┐      \n",
      "q_0: ┤ Rz(2) ├┤ √Xdg ├┤ Rz(1) ├┤ √X ├┤ Rz(3) ├──■──┤ H ├─■────\n",
      "     └─┬───┬─┘└──────┘└───────┘└────┘└───────┘┌─┴─┐└───┘ │    \n",
      "q_1: ──┤ H ├─────■────────────────────────────┤ X ├──■───┼────\n",
      "       └───┘   ┌─┴─┐                          └───┘┌─┴─┐ │ ┌─┐\n",
      "q_2: ──────────┤ X ├───────────────────────────────┤ X ├─■─┤M├\n",
      "               └───┘                               └───┘   └╥┘\n",
      "c: 1/═══════════════════════════════════════════════════════╩═\n",
      "                                                            0 \n"
     ]
    }
   ],
   "source": [
    "qiskit_qc1 = QuantumCircuit(3,1)\n",
    "qiskit_qc1 += qiskit_circuit1\n",
    "qiskit_qc1.measure(2,0)\n",
    "print(qiskit_qc1)"
   ]
  },
  {
   "cell_type": "markdown",
   "metadata": {},
   "source": [
    "### 4. Measurement with Qiskit's backend"
   ]
  },
  {
   "cell_type": "code",
   "execution_count": 42,
   "metadata": {},
   "outputs": [],
   "source": [
    "from qiskit.tools.monitor import job_monitor, backend_overview\n",
    "from qiskit.visualization import plot_histogram as plt_hist"
   ]
  },
  {
   "cell_type": "code",
   "execution_count": 44,
   "metadata": {},
   "outputs": [
    {
     "name": "stderr",
     "output_type": "stream",
     "text": [
      "configrc.store_credentials:WARNING:2022-04-10 11:47:04,835: Credentials already present. Set overwrite=True to overwrite.\n"
     ]
    }
   ],
   "source": [
    "IBMQ.save_account('f0d36272a1c90788a3255253bbc4aff73ba7b7b831de34f1efdb1e4751c707e606f466e1ac8d4117fcd33f31ddc957477692246bcac74ee007d495f8fe5ac06f')"
   ]
  },
  {
   "cell_type": "code",
   "execution_count": 45,
   "metadata": {},
   "outputs": [
    {
     "data": {
      "text/plain": [
       "<AccountProvider for IBMQ(hub='ibm-q', group='open', project='main')>"
      ]
     },
     "execution_count": 45,
     "metadata": {},
     "output_type": "execute_result"
    }
   ],
   "source": [
    "IBMQ.load_account()"
   ]
  },
  {
   "cell_type": "code",
   "execution_count": 46,
   "metadata": {},
   "outputs": [],
   "source": [
    "provider= IBMQ.get_provider(hub='ibm-q', group='open', project='main')"
   ]
  },
  {
   "cell_type": "code",
   "execution_count": 47,
   "metadata": {},
   "outputs": [
    {
     "name": "stdout",
     "output_type": "stream",
     "text": [
      "ibmq_manila                  ibmq_quito                   ibmq_belem\n",
      "-----------                  ----------                   ----------\n",
      "Num. Qubits:  5              Num. Qubits:  5              Num. Qubits:  5\n",
      "Pending Jobs: 14             Pending Jobs: 2              Pending Jobs: 0\n",
      "Least busy:   False          Least busy:   False          Least busy:   True\n",
      "Operational:  True           Operational:  True           Operational:  True\n",
      "Avg. T1:      124.3          Avg. T1:      93.4           Avg. T1:      101.9\n",
      "Avg. T2:      46.7           Avg. T2:      124.1          Avg. T2:      115.4\n",
      "\n",
      "\n",
      "\n",
      "ibmq_lima                    ibmq_bogota                  ibmq_santiago\n",
      "---------                    -----------                  -------------\n",
      "Num. Qubits:  5              Num. Qubits:  5              Num. Qubits:  5\n",
      "Pending Jobs: 0              Pending Jobs: 55             Pending Jobs: 3\n",
      "Least busy:   False          Least busy:   False          Least busy:   False\n",
      "Operational:  True           Operational:  True           Operational:  True\n",
      "Avg. T1:      63.4           Avg. T1:      102.4          Avg. T1:      135.4\n",
      "Avg. T2:      87.6           Avg. T2:      149.7          Avg. T2:      120.5\n",
      "\n",
      "\n",
      "\n",
      "ibmq_armonk\n",
      "-----------\n",
      "Num. Qubits:  1\n",
      "Pending Jobs: 6\n",
      "Least busy:   False\n",
      "Operational:  True\n",
      "Avg. T1:      182.9\n",
      "Avg. T2:      266.7\n",
      "\n",
      "\n",
      "\n"
     ]
    }
   ],
   "source": [
    "backend_overview()"
   ]
  },
  {
   "cell_type": "code",
   "execution_count": 48,
   "metadata": {},
   "outputs": [],
   "source": [
    "#Qiskit Devices, including simulator and real backends\n",
    "simulator = Aer.get_backend('qasm_simulator')\n",
    "lima =  provider.get_backend('ibmq_lima')\n",
    "belem = provider.get_backend('ibmq_belem')\n",
    "quito = provider.get_backend('ibmq_quito')"
   ]
  },
  {
   "cell_type": "markdown",
   "metadata": {},
   "source": [
    "#### Trivial State Teleportation"
   ]
  },
  {
   "cell_type": "code",
   "execution_count": 98,
   "metadata": {},
   "outputs": [],
   "source": [
    "#aer_qasm \n",
    "qc0_qasm = transpile(qiskit_qc0, simulator)\n",
    "job0_qasm = simulator.run(assemble(qc0_qasm, simulator, shots = 8196))\n",
    "result0_qasm = job0_qasm.result()\n",
    "counts_qasm = result0_qasm.get_counts()\n",
    "\n",
    "#lima\n",
    "qc0_lima = transpile(qiskit_qc0, lima)\n",
    "job0_lima = lima.run(assemble(qc0_lima, backend = lima, shots = 8196))\n",
    "result0_lima = job0_lima.result()\n",
    "counts0_lima = result0_lima.get_counts()\n",
    "\n",
    "#belem\n",
    "qc0_belem = transpile(qiskit_qc0, belem)\n",
    "job0_belem = lima.run(assemble(qc0_belem, backend = belem, shots = 8196))\n",
    "result0_belem = job0_belem.result()\n",
    "counts0_belem = result0_belem.get_counts()\n",
    "\n",
    "#quito\n",
    "qc0_quito = transpile(qiskit_qc0, quito)\n",
    "job0_quito = quito.run(assemble(qc0_quito, backend = quito, shots = 8196))\n",
    "result0_quito = job0_quito.result()\n",
    "counts0_quito = result0_quito.get_counts()"
   ]
  },
  {
   "cell_type": "code",
   "execution_count": 99,
   "metadata": {},
   "outputs": [
    {
     "data": {
      "image/png": "[encoded data removed]",
      "text/plain": [
       "<Figure size 504x360 with 1 Axes>"
      ]
     },
     "execution_count": 99,
     "metadata": {},
     "output_type": "execute_result"
    }
   ],
   "source": [
    "plt_hist([counts_qasm , counts0_lima, counts0_belem, counts0_quito], \\\n",
    "         title='Counts for different backends',\\\n",
    "         legend=['qasm','lima', 'belem', 'quito'])"
   ]
  },
  {
   "cell_type": "markdown",
   "metadata": {},
   "source": [
    "#### General State Teleportation"
   ]
  },
  {
   "cell_type": "code",
   "execution_count": 101,
   "metadata": {},
   "outputs": [],
   "source": [
    "#aer_qasm \n",
    "qc1_qasm = transpile(qiskit_qc1, simulator)\n",
    "job1_qasm = simulator.run(assemble(qc1_qasm, simulator, shots = 8196))\n",
    "result1_qasm = job1_qasm.result()\n",
    "counts1_qasm = result1_qasm.get_counts()\n",
    "\n",
    "#lima\n",
    "qc1_lima = transpile(qiskit_qc1, lima)\n",
    "job1_lima = lima.run(assemble(qc1_lima, backend = lima, shots = 8196))\n",
    "result1_lima = job1_lima.result()\n",
    "counts1_lima = result1_lima.get_counts()\n",
    "\n",
    "#belem\n",
    "qc1_belem = transpile(qiskit_qc1, belem)\n",
    "job1_belem = lima.run(assemble(qc1_belem, backend = belem, shots = 8196))\n",
    "result1_belem = job1_belem.result()\n",
    "counts1_belem = result1_belem.get_counts()\n",
    "\n",
    "#quito\n",
    "qc1_quito = transpile(qiskit_qc1, quito)\n",
    "job1_quito = quito.run(assemble(qc1_quito, backend = quito, shots = 8196))\n",
    "result1_quito = job1_quito.result()\n",
    "counts1_quito = result1_quito.get_counts()"
   ]
  },
  {
   "cell_type": "code",
   "execution_count": 102,
   "metadata": {},
   "outputs": [
    {
     "data": {
      "image/png": "[encoded data removed]",
      "text/plain": [
       "<Figure size 504x360 with 1 Axes>"
      ]
     },
     "execution_count": 102,
     "metadata": {},
     "output_type": "execute_result"
    }
   ],
   "source": [
    "plt_hist([counts1_qasm , counts1_lima, counts1_belem, counts1_quito ], \\\n",
    "         title='Counts for different backends',\\\n",
    "         legend=['qasm','lima', 'belem', 'quito'])"
   ]
  },
  {
   "cell_type": "markdown",
   "metadata": {},
   "source": [
    "### 5. Alice, Bob, and Corey (And Their Friends)"
   ]
  },
  {
   "cell_type": "markdown",
   "metadata": {},
   "source": [
    "#### a. Multiple contributors"
   ]
  },
  {
   "cell_type": "markdown",
   "metadata": {},
   "source": [
    "It would be interesting if we can transmit the information to multiple receivers. Unfortunately, the no-cloning theorem restricts us from doing that at the same time (Or you can actually teleport to London and New york at once). Thus, we come up with another situation that involves the third party.\n",
    "\n",
    "Alice wants to apply a X gate on a quantum spin before transfering it to Bob. However, her X gates have been going through maintainance and are not able to be used yet. So, she calls Corey and he agrees to help her if she transfers the quantum state to him. After receiving the state, Corey will apply his X gate (which is perfect) to the Alice's quantum state and will then help her transfer the state to Bob. "
   ]
  },
  {
   "cell_type": "markdown",
   "metadata": {},
   "source": [
    "We will first generate the quantum circuit for this process."
   ]
  },
  {
   "cell_type": "code",
   "execution_count": 30,
   "metadata": {},
   "outputs": [
    {
     "name": "stdout",
     "output_type": "stream",
     "text": [
      "T  : |0|1|2|3|4|5|6|7|8|\n",
      "                        \n",
      "q0 : -----C-H-C---------\n",
      "          |   |         \n",
      "q1 : -H-C-X-C-|---------\n",
      "        |   | |         \n",
      "q2 : ---X---X-Z-X-C-H-C-\n",
      "                  |   | \n",
      "q3 : -H-C---------X-C-|-\n",
      "        |           | | \n",
      "q4 : ---X-----------X-Z-\n",
      "\n",
      "T  : |0|1|2|3|4|5|6|7|8|\n"
     ]
    }
   ],
   "source": [
    "qc = Circuit()\n",
    "#Step1: Alice transfers her state to Corey\n",
    "qc.h(1).cnot(1,2).cnot(0,1).h(0).cnot(1,2).cz(0,2)\n",
    "\n",
    "#Step2: Corey applies her X-gate to Alice's state\n",
    "qc.x(2)\n",
    "\n",
    "#Step3: Corey transfers her state to Bob\n",
    "qc.h(3).cnot(3,4).cnot(2,3).h(2).cnot(3,4).cz(2,4)\n",
    "\n",
    "#print the circuit\n",
    "print(qc)"
   ]
  },
  {
   "cell_type": "markdown",
   "metadata": {},
   "source": [
    "The problem can be extended to more than 3 people and each can contribute by applying to the state some gates. We will write the function to generalize this."
   ]
  },
  {
   "cell_type": "code",
   "execution_count": 31,
   "metadata": {},
   "outputs": [],
   "source": [
    "def general_tele_circuit(num_people, contributing_instr_list):   \n",
    "    \"\"\"\n",
    "    Parameters\n",
    "    ----------\n",
    "    num_people: int\n",
    "        number of people \"contributing\" to the quantum state\n",
    "    contributing_instr_list: list\n",
    "        list of Instructions\n",
    "    \"\"\"\n",
    "    qc = Circuit()\n",
    "    for i in range(0, num_people-1):\n",
    "        qc.add(contributing_instr_list[i], [2*i])\n",
    "        qc.h(2*i+1).cnot(2*i+1,2*i+2).cnot(2*i,2*i+ 1).h(i).cnot(2*i+1,2*i+2).cz(2*i,2*i+2)\n",
    "    qc.add(contributing_instr_list[-1], [2*(num_people-1)])\n",
    "    return qc"
   ]
  },
  {
   "cell_type": "markdown",
   "metadata": {},
   "source": [
    "This is the example of 3-people-contributing circuit"
   ]
  },
  {
   "cell_type": "code",
   "execution_count": 32,
   "metadata": {},
   "outputs": [],
   "source": [
    "instr_list = [ Instruction(Gate.Rx(0.1), 0),Instruction(Gate.Ry(0.3), 0), \\\n",
    "              Instruction(Gate.Rx(0.4), 0)  ]\n",
    "quc = general_tele_circuit(3, instr_list)"
   ]
  },
  {
   "cell_type": "code",
   "execution_count": 33,
   "metadata": {},
   "outputs": [
    {
     "name": "stdout",
     "output_type": "stream",
     "text": [
      "T  : |   0    |1|2|3| 4 |   5    |6|7|8|   9    |\n",
      "                                                 \n",
      "q0 : -Rx(0.10)---C-H-C---------------------------\n",
      "                 |   |                           \n",
      "q1 : -H--------C-X-C-|-H-------------------------\n",
      "               |   | |                           \n",
      "q2 : ----------X---X-Z---Ry(0.30)-C---C----------\n",
      "                                  |   |          \n",
      "q3 : -H--------C------------------X-C-|----------\n",
      "               |                    | |          \n",
      "q4 : ----------X--------------------X-Z-Rx(0.40)-\n",
      "\n",
      "T  : |   0    |1|2|3| 4 |   5    |6|7|8|   9    |\n"
     ]
    }
   ],
   "source": [
    "print(quc)"
   ]
  },
  {
   "cell_type": "markdown",
   "metadata": {},
   "source": [
    "In fact, the people contributing we mentioned previously do not have to be different people. In other words, a person can contribute multiple times. \n",
    "\n",
    "So assuming Alice transfers a state to Bo, then Bob changes it and returns the new state to Alice, the circuit would be similar to that of the 3-people-contributing circuit. "
   ]
  },
  {
   "cell_type": "markdown",
   "metadata": {},
   "source": [
    "#### Estimate the Error of Quantum Teleportation "
   ]
  },
  {
   "cell_type": "markdown",
   "metadata": {},
   "source": [
    "Now assuming Alice sends the states to Bob and after receiving the states he sends it back to her without changing anything. We will estimate the error by calculating the difference between the theoretical and the measured probability vector. The quantum circuit or this situation would be as follow"
   ]
  },
  {
   "cell_type": "code",
   "execution_count": 39,
   "metadata": {},
   "outputs": [
    {
     "name": "stdout",
     "output_type": "stream",
     "text": [
      "T  : |  0  |    1    |  2  |   3    |  4  |5|6|7|8|9|10|\n",
      "                                                        \n",
      "q0 : -Rz(2)-Rx(-1.57)-Rz(1)-Rx(1.57)-Rz(3)-C-H-C--------\n",
      "                                           |   |        \n",
      "q1 : -H-----C------------------------------X-C-|--------\n",
      "            |                                | |        \n",
      "q2 : -------X--------------------------------X-Z-C-H-C--\n",
      "                                                 |   |  \n",
      "q3 : -H-----C------------------------------------X-C-|--\n",
      "            |                                      | |  \n",
      "q4 : -------X--------------------------------------X-Z--\n",
      "\n",
      "T  : |  0  |    1    |  2  |   3    |  4  |5|6|7|8|9|10|\n"
     ]
    }
   ],
   "source": [
    "ab_qc = Circuit()\n",
    "#Step1: Alice initializes the state with U3\n",
    "ab_qc.add(U3_instr(1, 2, 3))\n",
    "\n",
    "#Step1: Alice transfers her state to Corey\n",
    "ab_qc.h(1).cnot(1,2).cnot(0,1).h(0).cnot(1,2).cz(0,2)\n",
    "\n",
    "#Step2: Bob sends the state back to Bob\n",
    "ab_qc.h(3).cnot(3,4).cnot(2,3).h(2).cnot(3,4).cz(2,4)\n",
    "\n",
    "#print the circuit\n",
    "print(ab_qc)"
   ]
  },
  {
   "cell_type": "code",
   "execution_count": 75,
   "metadata": {},
   "outputs": [
    {
     "name": "stdout",
     "output_type": "stream",
     "text": [
      "     ┌───────┐┌──────┐┌───────┐┌────┐┌───────┐     ┌───┐                   \n",
      "q_0: ┤ Rz(2) ├┤ √Xdg ├┤ Rz(1) ├┤ √X ├┤ Rz(3) ├──■──┤ H ├─■─────────────────\n",
      "     └─┬───┬─┘└──────┘└───────┘└────┘└───────┘┌─┴─┐└───┘ │                 \n",
      "q_1: ──┤ H ├─────■────────────────────────────┤ X ├──■───┼─────────────────\n",
      "       └───┘   ┌─┴─┐                          └───┘┌─┴─┐ │      ┌───┐      \n",
      "q_2: ──────────┤ X ├───────────────────────────────┤ X ├─■───■──┤ H ├─■────\n",
      "       ┌───┐   └───┘                               └───┘   ┌─┴─┐└───┘ │    \n",
      "q_3: ──┤ H ├─────■─────────────────────────────────────────┤ X ├──■───┼────\n",
      "       └───┘   ┌─┴─┐                                       └───┘┌─┴─┐ │ ┌─┐\n",
      "q_4: ──────────┤ X ├────────────────────────────────────────────┤ X ├─■─┤M├\n",
      "               └───┘                                            └───┘   └╥┘\n",
      "c: 1/════════════════════════════════════════════════════════════════════╩═\n",
      "                                                                         0 \n"
     ]
    }
   ],
   "source": [
    "#transpile into qiskit\n",
    "qiskit_ab_qc=QuantumCircuit(5,1)+circuit_wrapper(ab_qc).transpile(\"qiskit\")\n",
    "qiskit_ab_qc.measure(4,0)\n",
    "print(qiskit_ab_qc)"
   ]
  },
  {
   "cell_type": "markdown",
   "metadata": {},
   "source": [
    "Theoretical Measurement"
   ]
  },
  {
   "cell_type": "code",
   "execution_count": 59,
   "metadata": {},
   "outputs": [
    {
     "name": "stdout",
     "output_type": "stream",
     "text": [
      "   ┌───────┐┌──────┐┌───────┐┌────┐┌───────┐\n",
      "q: ┤ Rz(2) ├┤ √Xdg ├┤ Rz(1) ├┤ √X ├┤ Rz(3) ├\n",
      "   └───────┘└──────┘└───────┘└────┘└───────┘\n"
     ]
    }
   ],
   "source": [
    "theor_ab_qc=circuit_wrapper(Circuit(U3_instr(1, 2, 3))).transpile(\"qiskit\")\n",
    "print(theor_ab_qc)"
   ]
  },
  {
   "cell_type": "code",
   "execution_count": 56,
   "metadata": {},
   "outputs": [],
   "source": [
    "from qiskit.quantum_info import Statevector"
   ]
  },
  {
   "cell_type": "code",
   "execution_count": null,
   "metadata": {},
   "outputs": [],
   "source": [
    "theor_count = Statevector(theor_ab_qc).probabilities_dict()\n",
    "print(theor_count)"
   ]
  },
  {
   "cell_type": "code",
   "execution_count": 91,
   "metadata": {},
   "outputs": [],
   "source": [
    "def twoD_probvector(count, numshots=1):\n",
    "    probvector = []\n",
    "    probvector.append(count['0']/numshots) \n",
    "    probvector.append(count['1']/numshots)\n",
    "    return probvector"
   ]
  },
  {
   "cell_type": "code",
   "execution_count": 90,
   "metadata": {},
   "outputs": [],
   "source": [
    "theor_probvector = twoD_probvector(theor_count)"
   ]
  },
  {
   "cell_type": "markdown",
   "metadata": {},
   "source": [
    "Measurement on IBMQ's real backends"
   ]
  },
  {
   "cell_type": "code",
   "execution_count": 76,
   "metadata": {},
   "outputs": [],
   "source": [
    "#lima\n",
    "t_ab_qc_lima = transpile(qiskit_ab_qc, lima)\n",
    "job_lima = lima.run(assemble(t_ab_qc_lima, backend = lima, shots = 8196))\n",
    "result_lima = job_lima.result()\n",
    "counts_lima = result_lima.get_counts()\n",
    "\n",
    "#belem\n",
    "t_ab_qc_belem = transpile(qiskit_ab_qc, belem)\n",
    "job_belem = lima.run(assemble(t_ab_qc_belem, backend = belem, shots = 8196))\n",
    "result_belem = job_belem.result()\n",
    "counts_belem = result_belem.get_counts()\n",
    "\n",
    "#quito\n",
    "t_ab_qc_quito = transpile(qiskit_ab_qc, quito)\n",
    "job_quito = quito.run(assemble(t_ab_qc_quito, backend = quito, shots = 8196))\n",
    "result_quito = job_quito.result()\n",
    "counts_quito = result_quito.get_counts()"
   ]
  },
  {
   "cell_type": "code",
   "execution_count": 92,
   "metadata": {},
   "outputs": [],
   "source": [
    "probvector_lima = twoD_probvector(counts_lima, 8196)\n",
    "probvector_belem = twoD_probvector(counts_belem, 8196)\n",
    "probvector_quito = twoD_probvector(counts_quito, 8196)"
   ]
  },
  {
   "cell_type": "code",
   "execution_count": 78,
   "metadata": {},
   "outputs": [
    {
     "data": {
      "image/png": "[encoded data removed]",
      "text/plain": [
       "<Figure size 504x360 with 1 Axes>"
      ]
     },
     "execution_count": 78,
     "metadata": {},
     "output_type": "execute_result"
    }
   ],
   "source": [
    "plt_hist([theor_count , counts_lima, counts_belem, counts_quito ], \\\n",
    "         title='Counts for different backends',\\\n",
    "         legend=['theoretical','lima', 'belem', 'quito'])"
   ]
  },
  {
   "cell_type": "markdown",
   "metadata": {},
   "source": [
    "We will estimate the differences between the measured and the theoretical by computing the manhantan distance."
   ]
  },
  {
   "cell_type": "code",
   "execution_count": 93,
   "metadata": {},
   "outputs": [],
   "source": [
    "def manhatan_dist(a,b):\n",
    "    sum = 0\n",
    "    for i in range(len(a)):\n",
    "        sum+=  np.abs(a[i]-b[i])\n",
    "    return sum"
   ]
  },
  {
   "cell_type": "code",
   "execution_count": 94,
   "metadata": {},
   "outputs": [],
   "source": [
    "diff_lima = manhatan_dist(probvector_lima, theor_probvector)\n",
    "diff_belem = manhatan_dist(probvector_belem, theor_probvector)\n",
    "diff_quito = manhatan_dist(probvector_quito, theor_probvector)"
   ]
  },
  {
   "cell_type": "code",
   "execution_count": 96,
   "metadata": {},
   "outputs": [
    {
     "name": "stdout",
     "output_type": "stream",
     "text": [
      "Differences between measurement on ibmq_lima and the theoretical results is 0.28847214477111705\n",
      "Differences between measurement on ibmq_belem and the theoretical results is 0.24796458010542638\n",
      "Differences between measurement on ibmq_quito and the theoretical results is 0.1686576010912732\n"
     ]
    }
   ],
   "source": [
    "print('Differences between measurement on ibmq_lima and the theoretical results is', diff_lima)\n",
    "print('Differences between measurement on ibmq_belem and the theoretical results is', diff_belem)\n",
    "print('Differences between measurement on ibmq_quito and the theoretical results is', diff_quito)"
   ]
  },
  {
   "cell_type": "code",
   "execution_count": null,
   "metadata": {},
   "outputs": [],
   "source": []
  }
 ],
 "metadata": {
  "kernelspec": {
   "display_name": "Python 3 [qBraid-SDK]",
   "language": "python",
   "name": "python3_qbraid_sdk_9j9sjy"
  },
  "language_info": {
   "codemirror_mode": {
    "name": "ipython",
    "version": 3
   },
   "file_extension": ".py",
   "mimetype": "text/x-python",
   "name": "python",
   "nbconvert_exporter": "python",
   "pygments_lexer": "ipython3",
   "version": "3.9.7"
  }
 },
 "nbformat": 4,
 "nbformat_minor": 4
}
